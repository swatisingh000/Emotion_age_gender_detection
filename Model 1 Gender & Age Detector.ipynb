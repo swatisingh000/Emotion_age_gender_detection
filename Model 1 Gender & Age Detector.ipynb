{
 "cells": [
  {
   "cell_type": "code",
   "execution_count": null,
   "metadata": {
    "executionInfo": {
     "elapsed": 1453,
     "status": "ok",
     "timestamp": 1617249468950,
     "user": {
      "displayName": "Prashant Patel",
      "photoUrl": "https://lh3.googleusercontent.com/a-/AOh14GgKfhKPlKPnFzoclNB6IUPBYMQUUYN2ooxt8CR2pQ=s64",
      "userId": "11727889337876506696"
     },
     "user_tz": -330
    },
    "id": "hXBm0A2RYnsO"
   },
   "outputs": [],
   "source": [
    "import numpy as np \n",
    "import pandas as pd\n",
    "import os\n",
    "import joblib\n",
    "import cv2"
   ]
  },
  {
   "cell_type": "markdown",
   "metadata": {
    "id": "D5XohqnU5k4Q"
   },
   "source": [
    "## Preprocessing"
   ]
  },
  {
   "cell_type": "code",
   "execution_count": null,
   "metadata": {
    "executionInfo": {
     "elapsed": 2202,
     "status": "ok",
     "timestamp": 1617249470070,
     "user": {
      "displayName": "Prashant Patel",
      "photoUrl": "https://lh3.googleusercontent.com/a-/AOh14GgKfhKPlKPnFzoclNB6IUPBYMQUUYN2ooxt8CR2pQ=s64",
      "userId": "11727889337876506696"
     },
     "user_tz": -330
    },
    "id": "X-v_br4fYIZm"
   },
   "outputs": [],
   "source": [
    "path = r'D:\\dbda\\project\\FER Model\\UTKFace'\n",
    "files = os.listdir(path)\n",
    "size = len(files)"
   ]
  },
  {
   "cell_type": "code",
   "execution_count": null,
   "metadata": {
    "colab": {
     "base_uri": "https://localhost:8080/"
    },
    "executionInfo": {
     "elapsed": 1039551,
     "status": "ok",
     "timestamp": 1617250513620,
     "user": {
      "displayName": "Prashant Patel",
      "photoUrl": "https://lh3.googleusercontent.com/a-/AOh14GgKfhKPlKPnFzoclNB6IUPBYMQUUYN2ooxt8CR2pQ=s64",
      "userId": "11727889337876506696"
     },
     "user_tz": -330
    },
    "id": "l50pOtW9_Gxe",
    "outputId": "309104d5-1a2f-484b-b635-2666a4f1d712"
   },
   "outputs": [],
   "source": [
    "images = []\n",
    "ages = []\n",
    "genders = []\n",
    "for i,file in enumerate(files):\n",
    "  ################\n",
    "    image = cv2.imread(path+'/'+file,0)\n",
    "    image = cv2.resize(image,dsize=(64,64))\n",
    "    image = image.reshape((image.shape[0],image.shape[1],1))\n",
    "    images.append(image)\n",
    "    split_var = file.split('_')\n",
    "    ages.append(split_var[0])\n",
    "    genders.append(int(split_var[1]))"
   ]
  },
  {
   "cell_type": "code",
   "execution_count": null,
   "metadata": {
    "executionInfo": {
     "elapsed": 1121,
     "status": "ok",
     "timestamp": 1617247594319,
     "user": {
      "displayName": "Prashant Patel",
      "photoUrl": "https://lh3.googleusercontent.com/a-/AOh14GgKfhKPlKPnFzoclNB6IUPBYMQUUYN2ooxt8CR2pQ=s64",
      "userId": "11727889337876506696"
     },
     "user_tz": -330
    },
    "id": "x9pdqyJ_dmVZ"
   },
   "outputs": [],
   "source": [
    "from sklearn.preprocessing import MinMaxScaler"
   ]
  },
  {
   "cell_type": "code",
   "execution_count": null,
   "metadata": {
    "executionInfo": {
     "elapsed": 1399,
     "status": "ok",
     "timestamp": 1617254502610,
     "user": {
      "displayName": "Prashant Patel",
      "photoUrl": "https://lh3.googleusercontent.com/a-/AOh14GgKfhKPlKPnFzoclNB6IUPBYMQUUYN2ooxt8CR2pQ=s64",
      "userId": "11727889337876506696"
     },
     "user_tz": -330
    },
    "id": "RyZrLrTose1s"
   },
   "outputs": [],
   "source": [
    "ages_array = np.asarray(ages,dtype=np.int)"
   ]
  },
  {
   "cell_type": "code",
   "execution_count": null,
   "metadata": {
    "executionInfo": {
     "elapsed": 1789,
     "status": "ok",
     "timestamp": 1617254506876,
     "user": {
      "displayName": "Prashant Patel",
      "photoUrl": "https://lh3.googleusercontent.com/a-/AOh14GgKfhKPlKPnFzoclNB6IUPBYMQUUYN2ooxt8CR2pQ=s64",
      "userId": "11727889337876506696"
     },
     "user_tz": -330
    },
    "id": "X19CdbNGdy15"
   },
   "outputs": [],
   "source": [
    "scaler = MinMaxScaler()\n",
    "ages_scaled = scaler.fit_transform(ages_array.reshape((-1,1)))"
   ]
  },
  {
   "cell_type": "code",
   "execution_count": null,
   "metadata": {
    "executionInfo": {
     "elapsed": 1428,
     "status": "ok",
     "timestamp": 1617254510329,
     "user": {
      "displayName": "Prashant Patel",
      "photoUrl": "https://lh3.googleusercontent.com/a-/AOh14GgKfhKPlKPnFzoclNB6IUPBYMQUUYN2ooxt8CR2pQ=s64",
      "userId": "11727889337876506696"
     },
     "user_tz": -330
    },
    "id": "WMT2sS52pAeE"
   },
   "outputs": [],
   "source": [
    "target = np.zeros((size,2),dtype='float32')\n",
    "features = np.zeros((size,images[0].shape[0],images[0].shape[1],1),dtype = 'float32')\n",
    "for i in range(size):\n",
    "    target[i,0] = ages_scaled[i][0]\n",
    "    target[i,1] = int(genders[i])\n",
    "    features[i] = images[i]\n",
    "features = features / 255"
   ]
  },
  {
   "cell_type": "code",
   "execution_count": null,
   "metadata": {
    "colab": {
     "base_uri": "https://localhost:8080/"
    },
    "executionInfo": {
     "elapsed": 1385,
     "status": "ok",
     "timestamp": 1617254522976,
     "user": {
      "displayName": "Prashant Patel",
      "photoUrl": "https://lh3.googleusercontent.com/a-/AOh14GgKfhKPlKPnFzoclNB6IUPBYMQUUYN2ooxt8CR2pQ=s64",
      "userId": "11727889337876506696"
     },
     "user_tz": -330
    },
    "id": "89M-HPUEmQu3",
    "outputId": "136ace43-d123-461a-e8e2-e53e001debe0"
   },
   "outputs": [],
   "source": [
    "from sklearn.model_selection import train_test_split\n",
    "x_train, x_test, y_train, y_test = train_test_split(features, target, test_size=0.2,shuffle  = True)\n",
    "print(\"Samples in Training:\",x_train.shape[0])\n",
    "print(\"Samples in Testing:\",x_test.shape[0])"
   ]
  },
  {
   "cell_type": "markdown",
   "metadata": {
    "id": "uxYGnwb05p1d"
   },
   "source": [
    "## Training Model"
   ]
  },
  {
   "cell_type": "code",
   "execution_count": null,
   "metadata": {
    "executionInfo": {
     "elapsed": 756,
     "status": "ok",
     "timestamp": 1617254524790,
     "user": {
      "displayName": "Prashant Patel",
      "photoUrl": "https://lh3.googleusercontent.com/a-/AOh14GgKfhKPlKPnFzoclNB6IUPBYMQUUYN2ooxt8CR2pQ=s64",
      "userId": "11727889337876506696"
     },
     "user_tz": -330
    },
    "id": "IFVQdj1HJSSP"
   },
   "outputs": [],
   "source": [
    "import keras \n",
    "from keras.layers import *\n",
    "from keras.models import *\n",
    "from keras import backend as K"
   ]
  },
  {
   "cell_type": "code",
   "execution_count": null,
   "metadata": {
    "executionInfo": {
     "elapsed": 1127,
     "status": "ok",
     "timestamp": 1617254533803,
     "user": {
      "displayName": "Prashant Patel",
      "photoUrl": "https://lh3.googleusercontent.com/a-/AOh14GgKfhKPlKPnFzoclNB6IUPBYMQUUYN2ooxt8CR2pQ=s64",
      "userId": "11727889337876506696"
     },
     "user_tz": -330
    },
    "id": "wG74hJVQJVz2"
   },
   "outputs": [],
   "source": [
    "inputs = Input(shape=(64,64,1))\n",
    "conv1 = Conv2D(32, kernel_size=(3, 3),activation='relu')(inputs)\n",
    "conv2 = Conv2D(64, kernel_size=(3, 3),activation='relu')(conv1)\n",
    "pool1 = MaxPooling2D(pool_size=(2, 2))(conv2)\n",
    "conv3 = Conv2D(128, kernel_size=(3, 3),activation='relu')(pool1)\n",
    "pool2 = MaxPooling2D(pool_size=(2, 2))(conv3)\n",
    "x = Dropout(0.25)(pool2)\n",
    "flat = Flatten()(x)\n",
    "\n",
    "dropout = Dropout(0.5)\n",
    "age_model = Dense(128, activation='relu')(flat)\n",
    "age_model = dropout(age_model)\n",
    "age_model = Dense(64, activation='relu')(age_model)\n",
    "age_model = dropout(age_model)\n",
    "age_model = Dense(32, activation='relu')(age_model)\n",
    "age_model = dropout(age_model)\n",
    "age_model = Dense(1, activation='relu')(age_model)\n",
    "\n",
    "dropout = Dropout(0.5)\n",
    "gender_model = Dense(128, activation='relu')(flat)\n",
    "gender_model = dropout(gender_model)\n",
    "gender_model = Dense(64, activation='relu')(gender_model)\n",
    "gender_model = dropout(gender_model)\n",
    "gender_model = Dense(32, activation='relu')(gender_model)\n",
    "gender_model = dropout(gender_model)\n",
    "gender_model = Dense(16, activation='relu')(gender_model)\n",
    "gender_model = dropout(gender_model)\n",
    "gender_model = Dense(8, activation='relu')(gender_model)\n",
    "gender_model = dropout(gender_model)\n",
    "gender_model = Dense(1, activation='sigmoid')(gender_model)"
   ]
  },
  {
   "cell_type": "code",
   "execution_count": null,
   "metadata": {
    "executionInfo": {
     "elapsed": 1452,
     "status": "ok",
     "timestamp": 1617254537678,
     "user": {
      "displayName": "Prashant Patel",
      "photoUrl": "https://lh3.googleusercontent.com/a-/AOh14GgKfhKPlKPnFzoclNB6IUPBYMQUUYN2ooxt8CR2pQ=s64",
      "userId": "11727889337876506696"
     },
     "user_tz": -330
    },
    "id": "XebV-65DJZIh"
   },
   "outputs": [],
   "source": [
    "model = Model(inputs=inputs, outputs=[age_model,gender_model])\n",
    "model.compile(optimizer = 'adam', loss =['mse','binary_crossentropy'],metrics=['accuracy'])"
   ]
  },
  {
   "cell_type": "code",
   "execution_count": null,
   "metadata": {
    "colab": {
     "base_uri": "https://localhost:8080/"
    },
    "executionInfo": {
     "elapsed": 68023,
     "status": "ok",
     "timestamp": 1617254604549,
     "user": {
      "displayName": "Prashant Patel",
      "photoUrl": "https://lh3.googleusercontent.com/a-/AOh14GgKfhKPlKPnFzoclNB6IUPBYMQUUYN2ooxt8CR2pQ=s64",
      "userId": "11727889337876506696"
     },
     "user_tz": -330
    },
    "id": "7vYVUQ-wc1AF",
    "outputId": "f8114803-ccde-4215-9c4a-72810759b037"
   },
   "outputs": [],
   "source": [
    "h = model.fit(x_train,[y_train[:,0],y_train[:,1]],validation_data=(x_test,[y_test[:,0],y_test[:,1]]),epochs = 10, batch_size=128,shuffle = True)"
   ]
  },
  {
   "cell_type": "markdown",
   "metadata": {
    "id": "K1IV8S-F5t5W"
   },
   "source": [
    "## Saving Trained Model"
   ]
  },
  {
   "cell_type": "code",
   "execution_count": null,
   "metadata": {
    "colab": {
     "base_uri": "https://localhost:8080/"
    },
    "executionInfo": {
     "elapsed": 1278,
     "status": "ok",
     "timestamp": 1617254620097,
     "user": {
      "displayName": "Prashant Patel",
      "photoUrl": "https://lh3.googleusercontent.com/a-/AOh14GgKfhKPlKPnFzoclNB6IUPBYMQUUYN2ooxt8CR2pQ=s64",
      "userId": "11727889337876506696"
     },
     "user_tz": -330
    },
    "id": "JcAbs1z8f6Kc",
    "outputId": "d6d5da6f-ce9a-4763-c933-907817c16c93"
   },
   "outputs": [],
   "source": [
    "joblib.dump(scaler,\"scaler.pkl\")"
   ]
  },
  {
   "cell_type": "code",
   "execution_count": null,
   "metadata": {
    "executionInfo": {
     "elapsed": 3075,
     "status": "ok",
     "timestamp": 1617254642400,
     "user": {
      "displayName": "Prashant Patel",
      "photoUrl": "https://lh3.googleusercontent.com/a-/AOh14GgKfhKPlKPnFzoclNB6IUPBYMQUUYN2ooxt8CR2pQ=s64",
      "userId": "11727889337876506696"
     },
     "user_tz": -330
    },
    "id": "ehFtuWrAiwYZ"
   },
   "outputs": [],
   "source": [
    "model_json = model.to_json()\n",
    "with open(\"age&gender_model.json\", \"w\") as json_file:\n",
    "    json_file.write(model_json)\n",
    "# serialize weights to HDF5\n",
    "model.save_weights(\"age&gender_model.h5\")"
   ]
  }
 ],
 "metadata": {
  "accelerator": "GPU",
  "colab": {
   "authorship_tag": "ABX9TyMc51CXq/GmPRM7w1WvxUWW",
   "collapsed_sections": [],
   "mount_file_id": "1MaWcs4Ccjrq31_ky4_xH0OUHcGCC31PK",
   "name": "Untitled1.ipynb",
   "provenance": []
  },
  "kernelspec": {
   "display_name": "Python 3",
   "language": "python",
   "name": "python3"
  },
  "language_info": {
   "codemirror_mode": {
    "name": "ipython",
    "version": 3
   },
   "file_extension": ".py",
   "mimetype": "text/x-python",
   "name": "python",
   "nbconvert_exporter": "python",
   "pygments_lexer": "ipython3",
   "version": "3.8.3"
  }
 },
 "nbformat": 4,
 "nbformat_minor": 1
}
