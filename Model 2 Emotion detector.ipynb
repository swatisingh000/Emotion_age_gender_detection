{
 "cells": [
  {
   "cell_type": "code",
   "execution_count": null,
   "metadata": {
    "executionInfo": {
     "elapsed": 5901,
     "status": "ok",
     "timestamp": 1617248256876,
     "user": {
      "displayName": "Prashant Patel",
      "photoUrl": "https://lh3.googleusercontent.com/a-/AOh14GgKfhKPlKPnFzoclNB6IUPBYMQUUYN2ooxt8CR2pQ=s64",
      "userId": "11727889337876506696"
     },
     "user_tz": -330
    },
    "id": "MbS472erjGsT"
   },
   "outputs": [],
   "source": [
    "import os "
   ]
  },
  {
   "cell_type": "code",
   "execution_count": null,
   "metadata": {
    "executionInfo": {
     "elapsed": 4340,
     "status": "ok",
     "timestamp": 1617248261044,
     "user": {
      "displayName": "Prashant Patel",
      "photoUrl": "https://lh3.googleusercontent.com/a-/AOh14GgKfhKPlKPnFzoclNB6IUPBYMQUUYN2ooxt8CR2pQ=s64",
      "userId": "11727889337876506696"
     },
     "user_tz": -330
    },
    "id": "mqE-jYTLEv-b"
   },
   "outputs": [],
   "source": [
    "from keras.layers import Input, Lambda, Dense, Flatten, MaxPooling2D, Dropout\n",
    "from keras.models import Model\n",
    "from keras.applications.vgg16 import VGG16\n",
    "from keras.applications.vgg16 import preprocess_input\n",
    "from keras.preprocessing import image\n",
    "from keras.preprocessing.image import ImageDataGenerator\n",
    "from keras.models import Sequential\n",
    "import numpy as np\n",
    "import joblib"
   ]
  },
  {
   "cell_type": "code",
   "execution_count": null,
   "metadata": {
    "id": "EJ697pAlJ7bP"
   },
   "outputs": [],
   "source": [
    "data_path = r'D:\\dbda\\project\\FER Model\\CK+48'"
   ]
  },
  {
   "cell_type": "code",
   "execution_count": null,
   "metadata": {
    "id": "UujkD2NSJ2XJ"
   },
   "outputs": [],
   "source": [
    "baseModel = VGG16(input_shape=(224,224,3), weights='imagenet', include_top=False)\n",
    "\n",
    "\n",
    "for layer in baseModel.layers:\n",
    "  layer.trainable = False\n",
    "\n",
    "headModel = baseModel.output\n",
    "headModel = MaxPooling2D()(headModel)\n",
    "headModel = Flatten()(headModel)\n",
    "headModel = Dense(64, activation=\"relu\")(headModel)\n",
    "headModel = Dropout(0.2)(headModel)\n",
    "headModel = Dense(7, activation='softmax')(headModel)\n",
    "\n",
    "model = Model(inputs=baseModel.input, outputs=headModel)"
   ]
  },
  {
   "cell_type": "code",
   "execution_count": null,
   "metadata": {
    "id": "YKfuwivFKIOI"
   },
   "outputs": [],
   "source": [
    "model.compile(optimizer='adam',loss='categorical_crossentropy',metrics=['accuracy'])"
   ]
  },
  {
   "cell_type": "code",
   "execution_count": null,
   "metadata": {
    "colab": {
     "base_uri": "https://localhost:8080/"
    },
    "executionInfo": {
     "elapsed": 3061,
     "status": "ok",
     "timestamp": 1617212292203,
     "user": {
      "displayName": "Prashant Patel",
      "photoUrl": "https://lh3.googleusercontent.com/a-/AOh14GgKfhKPlKPnFzoclNB6IUPBYMQUUYN2ooxt8CR2pQ=s64",
      "userId": "11727889337876506696"
     },
     "user_tz": -330
    },
    "id": "Yn7bQLRkKIu6",
    "outputId": "fcd61805-96fb-4a88-8ae9-ee393a7749f6"
   },
   "outputs": [],
   "source": [
    "from keras.preprocessing.image import ImageDataGenerator\n",
    "train_datagen = ImageDataGenerator(rescale = 1./255,\n",
    "                                   zoom_range = 0.2,\n",
    "                                   rotation_range=15,\n",
    "                                   horizontal_flip = True)\n",
    "\n",
    "\n",
    "training_set = train_datagen.flow_from_directory(data_path,\n",
    "                                                 target_size = (224, 224),\n",
    "                                                 batch_size = 16,\n",
    "                                                 class_mode = 'categorical',\n",
    "                                                 shuffle=True)\n",
    "\n"
   ]
  },
  {
   "cell_type": "code",
   "execution_count": null,
   "metadata": {
    "colab": {
     "base_uri": "https://localhost:8080/"
    },
    "executionInfo": {
     "elapsed": 244020,
     "status": "ok",
     "timestamp": 1617212537961,
     "user": {
      "displayName": "Prashant Patel",
      "photoUrl": "https://lh3.googleusercontent.com/a-/AOh14GgKfhKPlKPnFzoclNB6IUPBYMQUUYN2ooxt8CR2pQ=s64",
      "userId": "11727889337876506696"
     },
     "user_tz": -330
    },
    "id": "MF30OgEuKP2D",
    "outputId": "b1dbe157-0638-43d2-c943-f33d12647134"
   },
   "outputs": [],
   "source": [
    "model.fit_generator(training_set,\n",
    "                              epochs=20,\n",
    "                             steps_per_epoch = len(training_set))"
   ]
  },
  {
   "cell_type": "markdown",
   "metadata": {
    "id": "Cg3Hir1C6ZDN"
   },
   "source": [
    "# Saving Model"
   ]
  },
  {
   "cell_type": "code",
   "execution_count": null,
   "metadata": {
    "id": "bFCcop2KWbOM"
   },
   "outputs": [],
   "source": [
    "model_json = model.to_json()\n",
    "with open(\"emotion_model.json\", \"w\") as json_file:\n",
    "    json_file.write(model_json)\n",
    "# serialize weights to HDF5\n",
    "model.save_weights(\"emotion_model.h5\")"
   ]
  },
  {
   "cell_type": "markdown",
   "metadata": {
    "id": "2n1bX7kNgVvr"
   },
   "source": []
  }
 ],
 "metadata": {
  "accelerator": "GPU",
  "colab": {
   "authorship_tag": "ABX9TyNw7BgZYMsTLPaP6zx0KVM8",
   "collapsed_sections": [],
   "mount_file_id": "1pPdW0c0biBT-e5Bdtf0woniBoTltZ3sz",
   "name": "Untitled0.ipynb",
   "provenance": []
  },
  "kernelspec": {
   "display_name": "Python 3",
   "language": "python",
   "name": "python3"
  },
  "language_info": {
   "codemirror_mode": {
    "name": "ipython",
    "version": 3
   },
   "file_extension": ".py",
   "mimetype": "text/x-python",
   "name": "python",
   "nbconvert_exporter": "python",
   "pygments_lexer": "ipython3",
   "version": "3.8.3"
  }
 },
 "nbformat": 4,
 "nbformat_minor": 1
}
