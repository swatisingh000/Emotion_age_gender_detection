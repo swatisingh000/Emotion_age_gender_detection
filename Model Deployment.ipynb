{
 "cells": [
  {
   "cell_type": "code",
   "execution_count": null,
   "metadata": {},
   "outputs": [],
   "source": [
    "!pip install scikit-learn==0.22.2.post1"
   ]
  },
  {
   "cell_type": "code",
   "execution_count": null,
   "metadata": {},
   "outputs": [],
   "source": [
    "!pip install opencv-python"
   ]
  },
  {
   "cell_type": "code",
   "execution_count": null,
   "metadata": {
    "executionInfo": {
     "elapsed": 5901,
     "status": "ok",
     "timestamp": 1617248256876,
     "user": {
      "displayName": "Prashant Patel",
      "photoUrl": "https://lh3.googleusercontent.com/a-/AOh14GgKfhKPlKPnFzoclNB6IUPBYMQUUYN2ooxt8CR2pQ=s64",
      "userId": "11727889337876506696"
     },
     "user_tz": -330
    },
    "id": "MbS472erjGsT"
   },
   "outputs": [],
   "source": [
    "import os \n",
    "import cv2"
   ]
  },
  {
   "cell_type": "code",
   "execution_count": null,
   "metadata": {
    "executionInfo": {
     "elapsed": 4340,
     "status": "ok",
     "timestamp": 1617248261044,
     "user": {
      "displayName": "Prashant Patel",
      "photoUrl": "https://lh3.googleusercontent.com/a-/AOh14GgKfhKPlKPnFzoclNB6IUPBYMQUUYN2ooxt8CR2pQ=s64",
      "userId": "11727889337876506696"
     },
     "user_tz": -330
    },
    "id": "mqE-jYTLEv-b"
   },
   "outputs": [],
   "source": [
    "from keras.layers import Input, Lambda, Dense, Flatten, MaxPooling2D, Dropout\n",
    "from keras.models import Model\n",
    "from keras.applications.vgg16 import VGG16\n",
    "from keras.applications.vgg16 import preprocess_input\n",
    "from keras.preprocessing import image\n",
    "from keras.preprocessing.image import ImageDataGenerator\n",
    "from keras.models import Sequential\n",
    "import numpy as np\n",
    "from sklearn.preprocessing import MinMaxScaler\n",
    "import joblib\n",
    "from keras.models import model_from_json"
   ]
  },
  {
   "cell_type": "code",
   "execution_count": null,
   "metadata": {},
   "outputs": [],
   "source": [
    "import tensorflow\n",
    "import keras\n",
    "print(\"tensorflow\",tensorflow.__version__)\n",
    "print(\"keras\",keras.__version__)"
   ]
  },
  {
   "cell_type": "markdown",
   "metadata": {},
   "source": [
    "## Loading trained model"
   ]
  },
  {
   "cell_type": "code",
   "execution_count": null,
   "metadata": {
    "executionInfo": {
     "elapsed": 7520,
     "status": "ok",
     "timestamp": 1617248271176,
     "user": {
      "displayName": "Prashant Patel",
      "photoUrl": "https://lh3.googleusercontent.com/a-/AOh14GgKfhKPlKPnFzoclNB6IUPBYMQUUYN2ooxt8CR2pQ=s64",
      "userId": "11727889337876506696"
     },
     "user_tz": -330
    },
    "id": "EFlZQMC3ZwPr"
   },
   "outputs": [],
   "source": [
    "face_clsfr=cv2.CascadeClassifier('haarcascade_frontalface_default.xml')\n",
    "labels_dict = {0 : 'anger', 1 : 'contempt', 2 : 'disgust', 3 : 'fear', 4 : 'happy',5 :'sadness',6 :'surprise'}\n",
    "Gender_dict = {0:'female',1:'male'}"
   ]
  },
  {
   "cell_type": "code",
   "execution_count": null,
   "metadata": {
    "executionInfo": {
     "elapsed": 4382,
     "status": "ok",
     "timestamp": 1617248370534,
     "user": {
      "displayName": "Prashant Patel",
      "photoUrl": "https://lh3.googleusercontent.com/a-/AOh14GgKfhKPlKPnFzoclNB6IUPBYMQUUYN2ooxt8CR2pQ=s64",
      "userId": "11727889337876506696"
     },
     "user_tz": -330
    },
    "id": "smRJNkuQg59I"
   },
   "outputs": [],
   "source": [
    "scaler = joblib.load('scaler.pkl')"
   ]
  },
  {
   "cell_type": "code",
   "execution_count": null,
   "metadata": {
    "colab": {
     "base_uri": "https://localhost:8080/"
    },
    "executionInfo": {
     "elapsed": 9144,
     "status": "ok",
     "timestamp": 1617248437445,
     "user": {
      "displayName": "Prashant Patel",
      "photoUrl": "https://lh3.googleusercontent.com/a-/AOh14GgKfhKPlKPnFzoclNB6IUPBYMQUUYN2ooxt8CR2pQ=s64",
      "userId": "11727889337876506696"
     },
     "user_tz": -330
    },
    "id": "F06c2XM0Y4c8",
    "outputId": "2782396c-9b99-4fa8-e155-a24397d07cbc"
   },
   "outputs": [],
   "source": [
    "json_file = open('emotion_model.json', 'r')\n",
    "emotion_model_json = json_file.read()\n",
    "json_file.close()\n",
    "emotion_model = model_from_json(emotion_model_json)\n",
    "# load weights into new model\n",
    "emotion_model.load_weights(\"emotion_model.h5\")\n",
    "print(\"Loaded model from disk\")"
   ]
  },
  {
   "cell_type": "code",
   "execution_count": null,
   "metadata": {
    "colab": {
     "base_uri": "https://localhost:8080/"
    },
    "executionInfo": {
     "elapsed": 9330,
     "status": "ok",
     "timestamp": 1617248438226,
     "user": {
      "displayName": "Prashant Patel",
      "photoUrl": "https://lh3.googleusercontent.com/a-/AOh14GgKfhKPlKPnFzoclNB6IUPBYMQUUYN2ooxt8CR2pQ=s64",
      "userId": "11727889337876506696"
     },
     "user_tz": -330
    },
    "id": "GViNjh6mGyGU",
    "outputId": "c4c5e9e9-a69c-407c-8c4e-ff7fc74aaf32"
   },
   "outputs": [],
   "source": [
    "json_file = open('age&gender_model.json', 'r')\n",
    "Age_Gender_json = json_file.read()\n",
    "json_file.close()\n",
    "Age_Gender_model = model_from_json(Age_Gender_json)\n",
    "# load weights into new model\n",
    "Age_Gender_model.load_weights(\"age&gender_model.h5\")\n",
    "print(\"Loaded model from disk\")"
   ]
  },
  {
   "cell_type": "code",
   "execution_count": null,
   "metadata": {
    "executionInfo": {
     "elapsed": 1538,
     "status": "ok",
     "timestamp": 1617248888043,
     "user": {
      "displayName": "Prashant Patel",
      "photoUrl": "https://lh3.googleusercontent.com/a-/AOh14GgKfhKPlKPnFzoclNB6IUPBYMQUUYN2ooxt8CR2pQ=s64",
      "userId": "11727889337876506696"
     },
     "user_tz": -330
    },
    "id": "yYGO4TRSaEJC"
   },
   "outputs": [],
   "source": [
    "def detect(im):\n",
    "    faces = face_clsfr.detectMultiScale(im)\n",
    "\n",
    "    for (x, y, w, h) in faces:\n",
    "        face_img = im[y:y+h, x:x+w]\n",
    "        resized=cv2.resize(face_img,(224,224))\n",
    "        resized = resized/255\n",
    "        reshaped=np.expand_dims(resized, axis = 0)\n",
    "        result=emotion_model.predict(reshaped)\n",
    "        label=np.argmax(result)\n",
    "\n",
    "\n",
    "        img_age_gender = cv2.resize(face_img[:,:,0],dsize=(64,64))\n",
    "        img_age_gender = img_age_gender.reshape((img_age_gender.shape[0],img_age_gender.shape[1],1))\n",
    "        img_age_gender = np.expand_dims(img_age_gender, axis = 0)\n",
    "        img_age_gender = img_age_gender/255\n",
    "\n",
    "        age = str(int(np.round(scaler.inverse_transform(Age_Gender_model.predict(img_age_gender)[0])[0][0])))\n",
    "\n",
    "        gender_prob = Age_Gender_model.predict(img_age_gender)[1][0][0]\n",
    "        if gender_prob < 0.5:\n",
    "            gender = 0\n",
    "        else:\n",
    "            gender = 1\n",
    "\n",
    "        gender = Gender_dict[gender]\n",
    "\n",
    "        cv2.rectangle(im,(x,y),(x+w,y+h),(0, 0, 225),2)\n",
    "        cv2.putText(im,labels_dict[label] , (x, y-10),cv2.FONT_HERSHEY_SIMPLEX,0.8,(255,255,255),2)\n",
    "        cv2.putText(im,\"Gender: \"+gender , (x, y-30),cv2.FONT_HERSHEY_SIMPLEX,0.8,(255,255,255),2)\n",
    "        cv2.putText(im,\"Age: \" + age , (x, y-50),cv2.FONT_HERSHEY_SIMPLEX,0.8,(255,255,255),2)\n",
    "\n",
    "    return im"
   ]
  },
  {
   "cell_type": "markdown",
   "metadata": {},
   "source": [
    "# Detection from realtime"
   ]
  },
  {
   "cell_type": "code",
   "execution_count": null,
   "metadata": {
    "id": "kpSW2MaILM-b"
   },
   "outputs": [],
   "source": [
    "\n",
    "video_capture = cv2.VideoCapture(0) \n",
    "\n",
    "while True: \n",
    "    _, frame = video_capture.read()\n",
    "    frame=cv2.flip(frame,1,1)\n",
    "    frame = detect(frame)\n",
    "    cv2.imshow('Video', frame)\n",
    "    if cv2.waitKey(1) & 0xFF == ord('q'):\n",
    "        break \n",
    "\n",
    "video_capture.release()\n",
    "cv2.destroyAllWindows() "
   ]
  }
 ],
 "metadata": {
  "accelerator": "GPU",
  "colab": {
   "authorship_tag": "ABX9TyNNkMHriXxtV/dU/+ln+8w9",
   "collapsed_sections": [],
   "mount_file_id": "1pPdW0c0biBT-e5Bdtf0woniBoTltZ3sz",
   "name": "Untitled0.ipynb",
   "provenance": []
  },
  "kernelspec": {
   "display_name": "Python 3",
   "language": "python",
   "name": "python3"
  },
  "language_info": {
   "codemirror_mode": {
    "name": "ipython",
    "version": 3
   },
   "file_extension": ".py",
   "mimetype": "text/x-python",
   "name": "python",
   "nbconvert_exporter": "python",
   "pygments_lexer": "ipython3",
   "version": "3.8.3"
  }
 },
 "nbformat": 4,
 "nbformat_minor": 1
}
